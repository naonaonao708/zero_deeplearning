{
 "cells": [
  {
   "cell_type": "markdown",
   "metadata": {},
   "source": [
    "# 6章 学習に関するテクニック"
   ]
  },
  {
   "cell_type": "markdown",
   "metadata": {},
   "source": [
    "最適な重みパラメータを探索する最適化手 法、重みパラメータの初期値、ハイパーパラメータの設定方法など、どれもがニュー ラルネットワークの学習において重要なテーマです。また、過学習の対応策として、 Weight decay や Dropout などの正則化手法について概要を説明し、その実装を行 います。最後に、近年多くの研究で使用される Batch Normalization という手法に ついても簡単な説明を行います。本章で述べる手法を用いることで、ニューラルネッ トワーク(ディープラーニング)の学習を効率的に進めることができ、認識精度を高 めることができます。"
   ]
  },
  {
   "cell_type": "markdown",
   "metadata": {},
   "source": [
    "## 6.1 パラメータの更新\n",
    "ニューラルネットワークの学習の目的は、損失関数の値をできるだけ小さくするパ ラメータを見つけることです。これは最適なパラメータを見つける問題であり、その ような問題を解くことを最適化(optimization)と言います。"
   ]
  },
  {
   "cell_type": "code",
   "execution_count": 2,
   "metadata": {},
   "outputs": [],
   "source": [
    "class SGD:\n",
    "    def __init__(self, lr=0.01):\n",
    "        self.lr = lr\n",
    "\n",
    "    def update(self, params, grads):\n",
    "        for key in params.keys():\n",
    "            params[key] -= self.lr * grads[key]"
   ]
  },
  {
   "cell_type": "markdown",
   "metadata": {},
   "source": [
    "ここで、初期化の際の引数である lr は learning rate(学習係数)を表 します。この学習係数は、インスタンス変数として保持されます。また、 update(params, grads) というメソッドを定義しますが、SGD では、このメソッ ドが繰り返し呼ばれることになります。引数の params と grads は、(これまでの ニューラルネットワークの実装と同じく)ディクショナリ変数です。params['W1']、 grads['W1'] などのように、それぞれに重みパラメータと勾配が格納されています。"
   ]
  },
  {
   "cell_type": "markdown",
   "metadata": {},
   "source": [
    "### 6.1.3 SGD の欠点\n",
    "SGD の非効率な探索経路の根本的な原因は、勾配の方向が本来の最小値では ない方向を指していることに起因します。"
   ]
  },
  {
   "cell_type": "markdown",
   "metadata": {},
   "source": [
    "### 6.1.4 Momentum"
   ]
  },
  {
   "cell_type": "code",
   "execution_count": null,
   "metadata": {},
   "outputs": [],
   "source": []
  }
 ],
 "metadata": {
  "kernelspec": {
   "display_name": "Python 3.9.13 64-bit",
   "language": "python",
   "name": "python3"
  },
  "language_info": {
   "codemirror_mode": {
    "name": "ipython",
    "version": 3
   },
   "file_extension": ".py",
   "mimetype": "text/x-python",
   "name": "python",
   "nbconvert_exporter": "python",
   "pygments_lexer": "ipython3",
   "version": "3.9.13"
  },
  "orig_nbformat": 4,
  "vscode": {
   "interpreter": {
    "hash": "aee8b7b246df8f9039afb4144a1f6fd8d2ca17a180786b69acc140d282b71a49"
   }
  }
 },
 "nbformat": 4,
 "nbformat_minor": 2
}
