{
 "cells": [
  {
   "cell_type": "markdown",
   "metadata": {},
   "source": [
    "# 6章 学習に関するテクニック"
   ]
  },
  {
   "cell_type": "markdown",
   "metadata": {},
   "source": [
    "最適な重みパラメータを探索する最適化手 法、重みパラメータの初期値、ハイパーパラメータの設定方法など、どれもがニュー ラルネットワークの学習において重要なテーマです。また、過学習の対応策として、 Weight decay や Dropout などの正則化手法について概要を説明し、その実装を行 います。最後に、近年多くの研究で使用される Batch Normalization という手法に ついても簡単な説明を行います。本章で述べる手法を用いることで、ニューラルネッ トワーク(ディープラーニング)の学習を効率的に進めることができ、認識精度を高 めることができます。"
   ]
  },
  {
   "cell_type": "code",
   "execution_count": 1,
   "metadata": {},
   "outputs": [],
   "source": [
    "import numpy as np"
   ]
  },
  {
   "cell_type": "markdown",
   "metadata": {},
   "source": [
    "## 6.1 パラメータの更新\n",
    "ニューラルネットワークの学習の目的は、損失関数の値をできるだけ小さくするパ ラメータを見つけることです。これは最適なパラメータを見つける問題であり、その ような問題を解くことを最適化(optimization)と言います。"
   ]
  },
  {
   "cell_type": "code",
   "execution_count": 2,
   "metadata": {},
   "outputs": [],
   "source": [
    "class SGD:\n",
    "    def __init__(self, lr=0.01):\n",
    "        self.lr = lr\n",
    "\n",
    "    def update(self, params, grads):\n",
    "        for key in params.keys():\n",
    "            params[key] -= self.lr * grads[key]"
   ]
  },
  {
   "cell_type": "markdown",
   "metadata": {},
   "source": [
    "ここで、初期化の際の引数である lr は learning rate(学習係数)を表 します。この学習係数は、インスタンス変数として保持されます。また、 update(params, grads) というメソッドを定義しますが、SGD では、このメソッ ドが繰り返し呼ばれることになります。引数の params と grads は、(これまでの ニューラルネットワークの実装と同じく)ディクショナリ変数です。params['W1']、 grads['W1'] などのように、それぞれに重みパラメータと勾配が格納されています。"
   ]
  },
  {
   "cell_type": "markdown",
   "metadata": {},
   "source": [
    "### 6.1.3 SGD の欠点\n",
    "SGD の非効率な探索経路の根本的な原因は、勾配の方向が本来の最小値では ない方向を指していることに起因します。"
   ]
  },
  {
   "cell_type": "markdown",
   "metadata": {},
   "source": [
    "### 6.1.4 Momentum"
   ]
  },
  {
   "cell_type": "code",
   "execution_count": 2,
   "metadata": {},
   "outputs": [],
   "source": [
    "class Momentum:\n",
    "    def __init__(self, lr=0.01, momentum=0.9):\n",
    "        self.lr = lr\n",
    "        self.momentum = momentum\n",
    "        self.v = None\n",
    "\n",
    "    def update(self, params, grads):\n",
    "        if self.v is None:\n",
    "            self.v = {}\n",
    "            for key, val in params.items():\n",
    "                self.v[key] = np.zeros_like(val)\n",
    "\n",
    "        for key in params.keys():\n",
    "            self.v[key] = self.momentum*self.v[key] - self.lr*grads[key]\n",
    "            params[key] += self.v[key]"
   ]
  },
  {
   "cell_type": "markdown",
   "metadata": {},
   "source": [
    "### 6.1.5 AdaGrad\n",
    "ニューラルネットワークの学習では、学習係数――数式では η で表記――の値が重 要になります。学習係数が小さすぎると学習に時間がかかりすぎてしまい、逆に大き すぎると発散して正しい学習が行えません。<br>\n",
    "この学習係数に関する有効なテクニックとして、学習係数の減衰(learning rate decay)という方法があります。これは、学習が進むにつれて学習係数を小さくする という方法です。最初は“大きく”学習し、次第に“小さく”学習するという手法で、 ニューラルネットワークの学習では実際によく使われます。<br>\n",
    "学習係数を徐々に下げていくというアイデアは、パラメータ「全体」の学習係数の 値を一括して下げることに相当します。これをさらに発展させたのが AdaGrad [6] です。AdaGrad は、「一つひとつ」のパラメータに対して、“オーダーメイド”の値 をこしらえます。<br>\n",
    "AdaGrad は、パラメータの要素ごとに適応的に学習係数を調整しながら学習を行 う手法です(AdaGrad の Ada は「適応的」を意味する Adaptive に由来します)。 それでは、AdaGrad の更新方法を数式で表します。"
   ]
  },
  {
   "cell_type": "code",
   "execution_count": 3,
   "metadata": {},
   "outputs": [],
   "source": [
    "class AdaGrad:\n",
    "    def __init__(self, lr=0.01):\n",
    "        self.lr = lr\n",
    "        self.h = None\n",
    "\n",
    "    def update(self, params, grads):\n",
    "        if self.h is None:\n",
    "            self.h = {}\n",
    "            for key, val in params.items():\n",
    "                self.h[key] = np.zeros_like(val)\n",
    "\n",
    "        for key in params.keys():\n",
    "            self.h[key] += grads[key] * grads[key]\n",
    "            params[key] -= self.lr * grads[key] / (np.sqrt(self.h[key]) + 1e-7)"
   ]
  },
  {
   "cell_type": "markdown",
   "metadata": {},
   "source": [
    "### 6.1.6 Adam\n",
    "Adam は 2015 年に提案された新しい手法です。その理論はやや複雑ですが、直 感的には、Momentum と AdaGrad を融合したような手法です。<br>\n",
    "先の 2 つの手法 の利点を組み合わせることで、効率的にパラメータ空間を探索することが期待でき ます。また、ハイパーパラメータの「バイアス補正(偏りの補正)」が行われてい ることも Adam の特徴です。"
   ]
  },
  {
   "cell_type": "markdown",
   "metadata": {},
   "source": [
    "## 6.2 重みの初期値\n",
    "過学習を抑え、汎化性能を高めるテクニックとして、この後、Weight decay(荷重 減衰)という手法を紹介します。Weight decay とは、簡単に言えば、重みパラメー タの値が小さくなるように学習を行うことを目的とした手法です。重みの値を小さく することで、過学習が起きにくくなります。<br>\n",
    "重みの値を小さくしたいというのであれば、重みの初期値をすべて 0 に設定する、 というのはどうでしょうか? 答えを先に言ってしまうと、重みの初期値を 0 にするというのは悪いアイデアです。実際、重みの初期値を 0 にすると、正しい学習が行えません。<br>\n",
    "なぜ重みの初期値を 0 にしてはいけない――正確には、重みを均一な値に設定して はいけない――のでしょうか? それは誤差逆伝播法において、すべての重みの値が 均一に(同じように)更新されてしまうからです。たとえば、2 層のニューラルネッ トワークにおいて、1 層目と 2 層目の重みが 0 だと仮定します。そうすると、順伝 播時には、入力層の重みが 0 であるため、2 層目のニューロンにはすべて同じ値が伝 達されます。2 層目のニューロンですべて同じ値が入力されるということは、逆伝播 のときに 2 層目の重みはすべて同じように更新されるということになります(「乗算 ノードの逆伝播」を思い出しましょう)。そのため、均一の値で更新され、重みは対 称的な値(重複した値)を持つようになってしまうのです。これでは、たくさんの重 みを持つ意味がなくなってしまいます。この「重みが均一になってしまうこと」を防 ぐ――正確には、重みの対称的な構造を崩す――ために、ランダムな初期値が必要な のです。"
   ]
  },
  {
   "cell_type": "markdown",
   "metadata": {},
   "source": [
    "### 6.2.2 隠れ層のアクティベーション分布\n",
    "隠れ層のアクティベーション†2(活性化関数の後の出力データ)の分布を観察する ことで多くの知見が得られます。ここでは、重みの初期値によって隠れ層のアクティ ベーションがどのように変化するか、簡単な実験を行ってみようと思います"
   ]
  },
  {
   "cell_type": "code",
   "execution_count": 4,
   "metadata": {},
   "outputs": [
    {
     "data": {
      "image/png": "[encoded data removed]",
      "text/plain": [
       "<Figure size 432x288 with 5 Axes>"
      ]
     },
     "metadata": {
      "needs_background": "light"
     },
     "output_type": "display_data"
    }
   ],
   "source": [
    "import numpy as np\n",
    "import matplotlib.pyplot as plt\n",
    "\n",
    "\n",
    "def sigmoid(x):\n",
    "    return 1 / (1 + np.exp(-x))\n",
    "\n",
    "\n",
    "def ReLU(x):\n",
    "    return np.maximum(0, x)\n",
    "\n",
    "\n",
    "def tanh(x):\n",
    "    return np.tanh(x)\n",
    "    \n",
    "input_data = np.random.randn(1000, 100)  # 1000個のデータ\n",
    "node_num = 100  # 各隠れ層のノード（ニューロン）の数\n",
    "hidden_layer_size = 5  # 隠れ層が5層\n",
    "activations = {}  # ここにアクティベーションの結果を格納する\n",
    "\n",
    "x = input_data\n",
    "\n",
    "for i in range(hidden_layer_size):\n",
    "    if i != 0:\n",
    "        x = activations[i-1]\n",
    "\n",
    "    # 初期値の値をいろいろ変えて実験しよう！\n",
    "    w = np.random.randn(node_num, node_num) * 1\n",
    "    # w = np.random.randn(node_num, node_num) * 0.01\n",
    "    # w = np.random.randn(node_num, node_num) * np.sqrt(1.0 / node_num)\n",
    "    # w = np.random.randn(node_num, node_num) * np.sqrt(2.0 / node_num)\n",
    "\n",
    "\n",
    "    a = np.dot(x, w)\n",
    "\n",
    "\n",
    "    # 活性化関数の種類も変えて実験しよう！\n",
    "    z = sigmoid(a)\n",
    "    # z = ReLU(a)\n",
    "    # z = tanh(a)\n",
    "\n",
    "    activations[i] = z\n",
    "\n",
    "# ヒストグラムを描画\n",
    "for i, a in activations.items():\n",
    "    plt.subplot(1, len(activations), i+1)\n",
    "    plt.title(str(i+1) + \"-layer\")\n",
    "    if i != 0: plt.yticks([], [])\n",
    "    # plt.xlim(0.1, 1)\n",
    "    # plt.ylim(0, 7000)\n",
    "    plt.hist(a.flatten(), 30, range=(0,1))\n",
    "plt.show()\n"
   ]
  },
  {
   "cell_type": "code",
   "execution_count": 5,
   "metadata": {},
   "outputs": [
    {
     "data": {
      "image/png": "[encoded data removed]",
      "text/plain": [
       "<Figure size 432x288 with 5 Axes>"
      ]
     },
     "metadata": {
      "needs_background": "light"
     },
     "output_type": "display_data"
    }
   ],
   "source": [
    "import numpy as np\n",
    "import matplotlib.pyplot as plt\n",
    "\n",
    "\n",
    "def sigmoid(x):\n",
    "    return 1 / (1 + np.exp(-x))\n",
    "\n",
    "\n",
    "def ReLU(x):\n",
    "    return np.maximum(0, x)\n",
    "\n",
    "\n",
    "def tanh(x):\n",
    "    return np.tanh(x)\n",
    "    \n",
    "input_data = np.random.randn(1000, 100)  # 1000個のデータ\n",
    "node_num = 100  # 各隠れ層のノード（ニューロン）の数\n",
    "hidden_layer_size = 5  # 隠れ層が5層\n",
    "activations = {}  # ここにアクティベーションの結果を格納する\n",
    "\n",
    "x = input_data\n",
    "\n",
    "for i in range(hidden_layer_size):\n",
    "    if i != 0:\n",
    "        x = activations[i-1]\n",
    "\n",
    "    # 初期値の値をいろいろ変えて実験しよう！\n",
    "    # w = np.random.randn(node_num, node_num) * 1\n",
    "    w = np.random.randn(node_num, node_num) * 0.01\n",
    "    # w = np.random.randn(node_num, node_num) * np.sqrt(1.0 / node_num)\n",
    "    # w = np.random.randn(node_num, node_num) * np.sqrt(2.0 / node_num)\n",
    "\n",
    "\n",
    "    a = np.dot(x, w)\n",
    "\n",
    "\n",
    "    # 活性化関数の種類も変えて実験しよう！\n",
    "    z = sigmoid(a)\n",
    "    # z = ReLU(a)\n",
    "    # z = tanh(a)\n",
    "\n",
    "    activations[i] = z\n",
    "\n",
    "# ヒストグラムを描画\n",
    "for i, a in activations.items():\n",
    "    plt.subplot(1, len(activations), i+1)\n",
    "    plt.title(str(i+1) + \"-layer\")\n",
    "    if i != 0: plt.yticks([], [])\n",
    "    # plt.xlim(0.1, 1)\n",
    "    # plt.ylim(0, 7000)\n",
    "    plt.hist(a.flatten(), 30, range=(0,1))\n",
    "plt.show()\n"
   ]
  },
  {
   "cell_type": "markdown",
   "metadata": {},
   "source": [
    "先ほどの例のように 0 と 1 への偏 りはないので、勾配消失の問題は起きません。しかし、アクティベーションに偏りが あるということは、表現力の点で大きな問題があります。なぜなら、複数のニューロ ンがほとんど同じ値を出力するとすれば、複数のニューロンが存在する意味がなく なってしまうからです。たとえば、100 個のニューロンがほぼ同じ値を出力するとす れば、それは 1 個のニューロンでもほぼ同じことを表現することができます。そのた め、アクティベーションの偏りは、「表現力の制限」の点で問題になります。"
   ]
  },
  {
   "cell_type": "markdown",
   "metadata": {},
   "source": [
    "### Xavier の初期値"
   ]
  },
  {
   "cell_type": "code",
   "execution_count": 6,
   "metadata": {},
   "outputs": [
    {
     "data": {
      "image/png": "[encoded data removed]",
      "text/plain": [
       "<Figure size 432x288 with 5 Axes>"
      ]
     },
     "metadata": {
      "needs_background": "light"
     },
     "output_type": "display_data"
    }
   ],
   "source": [
    "import numpy as np\n",
    "import matplotlib.pyplot as plt\n",
    "\n",
    "\n",
    "def sigmoid(x):\n",
    "    return 1 / (1 + np.exp(-x))\n",
    "\n",
    "\n",
    "def ReLU(x):\n",
    "    return np.maximum(0, x)\n",
    "\n",
    "\n",
    "def tanh(x):\n",
    "    return np.tanh(x)\n",
    "    \n",
    "input_data = np.random.randn(1000, 100)  # 1000個のデータ\n",
    "node_num = 100  # 各隠れ層のノード（ニューロン）の数\n",
    "hidden_layer_size = 5  # 隠れ層が5層\n",
    "activations = {}  # ここにアクティベーションの結果を格納する\n",
    "\n",
    "x = input_data\n",
    "\n",
    "for i in range(hidden_layer_size):\n",
    "    if i != 0:\n",
    "        x = activations[i-1]\n",
    "\n",
    "    # 初期値の値をいろいろ変えて実験しよう！\n",
    "    # w = np.random.randn(node_num, node_num) * 1\n",
    "    # w = np.random.randn(node_num, node_num) * 0.01\n",
    "    w = np.random.randn(node_num, node_num) * np.sqrt(1.0 / node_num)\n",
    "    # w = np.random.randn(node_num, node_num) * np.sqrt(2.0 / node_num)\n",
    "\n",
    "\n",
    "    a = np.dot(x, w)\n",
    "\n",
    "\n",
    "    # 活性化関数の種類も変えて実験しよう！\n",
    "    z = sigmoid(a)\n",
    "    # z = ReLU(a)\n",
    "    # z = tanh(a)\n",
    "\n",
    "    activations[i] = z\n",
    "\n",
    "# ヒストグラムを描画\n",
    "for i, a in activations.items():\n",
    "    plt.subplot(1, len(activations), i+1)\n",
    "    plt.title(str(i+1) + \"-layer\")\n",
    "    if i != 0: plt.yticks([], [])\n",
    "    # plt.xlim(0.1, 1)\n",
    "    # plt.ylim(0, 7000)\n",
    "    plt.hist(a.flatten(), 30, range=(0,1))\n",
    "plt.show()\n"
   ]
  },
  {
   "cell_type": "markdown",
   "metadata": {},
   "source": [
    "### 6.2.3 ReLU の場合の重みの初期値\n",
    "ReLU を用いる場合は、ReLU に特化し\n",
    "た初期値を用いることが推奨されています。それは、Kaiming He らが推奨する初期\n",
    "値――その名も「He の初期値」[10] です。"
   ]
  },
  {
   "cell_type": "code",
   "execution_count": 8,
   "metadata": {},
   "outputs": [
    {
     "data": {
      "image/png": "[encoded data removed]",
      "text/plain": [
       "<Figure size 432x288 with 5 Axes>"
      ]
     },
     "metadata": {
      "needs_background": "light"
     },
     "output_type": "display_data"
    }
   ],
   "source": [
    "import numpy as np\n",
    "import matplotlib.pyplot as plt\n",
    "\n",
    "\n",
    "def sigmoid(x):\n",
    "    return 1 / (1 + np.exp(-x))\n",
    "\n",
    "\n",
    "def ReLU(x):\n",
    "    return np.maximum(0, x)\n",
    "\n",
    "\n",
    "def tanh(x):\n",
    "    return np.tanh(x)\n",
    "    \n",
    "input_data = np.random.randn(1000, 100)  # 1000個のデータ\n",
    "node_num = 100  # 各隠れ層のノード（ニューロン）の数\n",
    "hidden_layer_size = 5  # 隠れ層が5層\n",
    "activations = {}  # ここにアクティベーションの結果を格納する\n",
    "\n",
    "x = input_data\n",
    "\n",
    "for i in range(hidden_layer_size):\n",
    "    if i != 0:\n",
    "        x = activations[i-1]\n",
    "\n",
    "    # 初期値の値をいろいろ変えて実験しよう！\n",
    "    # w = np.random.randn(node_num, node_num) * 1\n",
    "    # w = np.random.randn(node_num, node_num) * 0.01\n",
    "    # w = np.random.randn(node_num, node_num) * np.sqrt(1.0 / node_num)\n",
    "    w = np.random.randn(node_num, node_num) * np.sqrt(2.0 / node_num)\n",
    "\n",
    "\n",
    "    a = np.dot(x, w)\n",
    "\n",
    "\n",
    "    # 活性化関数の種類も変えて実験しよう！\n",
    "    z = sigmoid(a)\n",
    "    # z = ReLU(a)\n",
    "    # z = tanh(a)\n",
    "\n",
    "    activations[i] = z\n",
    "\n",
    "# ヒストグラムを描画\n",
    "for i, a in activations.items():\n",
    "    plt.subplot(1, len(activations), i+1)\n",
    "    plt.title(str(i+1) + \"-layer\")\n",
    "    if i != 0: plt.yticks([], [])\n",
    "    # plt.xlim(0.1, 1)\n",
    "    # plt.ylim(0, 7000)\n",
    "    plt.hist(a.flatten(), 30, range=(0,1))\n",
    "plt.show()\n"
   ]
  },
  {
   "cell_type": "markdown",
   "metadata": {},
   "source": [
    "## 6.3 Batch Normalization\n",
    "前節の「6.2 重みの初期値」では、各層のアクティベーションの分布を観察しまし た。そこで学んだことは、重みの初期値を適切に設定すれば、各層のアクティベー ションの分布は適度な広がりを持ち、学習がスムーズに行えるということでした。<br>\n",
    "そ れでは、各層で適度な広がりを持つように、“強制的”にアクティベーションの分布 を調整してみてはどうでしょうか? 実は、そのようなアイデアをベースとする手法 が Batch Normalization [11] なのです。"
   ]
  },
  {
   "cell_type": "markdown",
   "metadata": {},
   "source": [
    "なぜこれほど Batch Norm が注目されているかというと、Batch Norm には次の 利点があるからです。<br>\n",
    "● 学習を速く進行させることができる(学習係数を大きくすることができる)<br>\n",
    "● 初期値にそれほど依存しない(初期値に対してそこまで神経質にならなくてよい)<br>\n",
    "● 過学習を抑制する(Dropout などの必要性を減らす)<br>"
   ]
  },
  {
   "cell_type": "markdown",
   "metadata": {},
   "source": [
    "## 6.4 正則化"
   ]
  },
  {
   "cell_type": "markdown",
   "metadata": {},
   "source": [
    "### 6.4.1 過学習\n",
    "過学習が起きる原因として、主に次の 2 つが挙げられます。<br>\n",
    "● パラメータを大量に持ち、表現力の高いモデルであること<br>\n",
    "● 訓練データが少ないこと<br>"
   ]
  },
  {
   "cell_type": "markdown",
   "metadata": {},
   "source": [
    "### 6.4.2 Weight decay\n",
    "学習の過程において、大きな重みを持つことに対してペ ナルティを課すことで、過学習を抑制しようというものです。そもそも過学習は、重 みパラメータが大きな値を取ることによって発生することが多くあるのです。<br>\n",
    "重みの 2 乗ノルム(L2 ノ ルム)を損失関数に加算します。そうすれば、重みが大きくなることを抑えることが できそうです。記号で表すと、重みを W とすれば、L2 ノルムの Weight decay は、\n",
    "21 λW2 になり、この 21 λW2 を損失関数に加算します。ここで、λ は正則化の強さを コントロールするハイパーパラメータです。λ を大きく設定すればするほど、大きな 重みを取ることに対して強いペナルティを課すことになります。また、21λW2 の先 頭の 21 は、 12 λW2 の微分の結果を λW にするための調整用の定数です。"
   ]
  },
  {
   "cell_type": "markdown",
   "metadata": {},
   "source": [
    "### 6.4.3 Dropout\n",
    "過学習を抑制する手法として、損失関数に対して重みの L2 ノルムを加算する Weight decay という手法を説明しました。Weight decay は簡単に実装でき、ある 程度過学習を抑制することができます。しかし、ニューラルネットワークのモデルが 複雑になってくると、Weight decay だけでは対応が困難になってきます。そこで、 Dropout [14] という手法がよく用いられます。<br>\n",
    "Dropout は、ニューロンをランダムに消去しながら学習する手法です。訓練時に 隠れ層のニューロンをランダムに選び出し、その選び出したニューロンを消去しま す。<br>\n",
    "消去されたニューロンは、図6-22 に示すように、信号の伝達が行われなくなり ます。なお、訓練時には、データが流れるたびに、消去するニューロンをランダムに 選択します。そして、テスト時には、すべてのニューロンの信号を伝達しますが、各 ニューロンの出力に対して、訓練時に消去した割合を乗算して出力します。"
   ]
  },
  {
   "cell_type": "code",
   "execution_count": 1,
   "metadata": {},
   "outputs": [],
   "source": [
    "class Dropout:\n",
    "    def __init__(self, dropout_ratio=0.5):\n",
    "        self.dropout_ratio = dropout_ratio\n",
    "        self.mask = None\n",
    "\n",
    "    def forward(self, x, train_flg=True):\n",
    "        if train_flg:\n",
    "            self.mask = np.random.rand(*x.shape) > self.dropout_ratio\n",
    "            return x * self.mask\n",
    "\n",
    "        else:\n",
    "            return x * (1.0 - self.dropout_ratio)\n",
    "\n",
    "    def backward(self, dout):\n",
    "        return dout * self.mask"
   ]
  },
  {
   "cell_type": "markdown",
   "metadata": {},
   "source": [
    "ここでのポイントは、順伝播のたびに、self.mask に消去するニューロンを False として格納するということです。self.mask は、x と同じ形状の配列をランダムに 生成し、その値が dropout_ratio よりも大きい要素だけを True とします。逆伝播 の際の挙動は ReLU と同じです。つまり、順伝播で信号を通したニューロンは、逆 伝播の際に伝わる信号をそのまま通し、順伝播で信号を通さなかったニューロンは、 逆伝播では信号がそこでストップします。"
   ]
  },
  {
   "cell_type": "markdown",
   "metadata": {},
   "source": [
    "## 6.5 ハイパーパラメータの検証\n",
    "ここで言うハイパーパラ メータとは、たとえば、各層のニューロンの数やバッチサイズ、パラメータの更新の際の学習係数や Weight decay などです。そのようなハイパーパラメータは、適切な 値に設定しなければ、性能の悪いモデルになってしまいます。ハイパーパラメータの 値はとても重要ですが、ハイパーパラメータの決定には一般に多くの試行錯誤が伴い ます。ここでは、できるだけ効率的にハイパーパラメータの値を探索する方法につい て説明します。"
   ]
  },
  {
   "cell_type": "markdown",
   "metadata": {},
   "source": [
    "### 6.5.1 検証データ\n",
    "これまで使用したデータセットは、訓練データとテストデータの 2 つに分離して利 用してきました。訓練データで学習を行い、テストデータを使って汎化性能を評価す る――そうすることで、訓練データだけに過度に適応しすぎていないか(過学習を起 こしていないか)、そして、汎化性能はどれくらいか、ということを評価することが できたのです。<br>\n",
    "これからハイパーパラメータをさまざまな値に設定して検証していきますが、ここ\n",
    "で注意すべき点は、テストデータを使ってハイパーパラメータの性能を評価してはい\n",
    "けない、ということです。これは非常に大切ですが、見落としがちなポイントです。<br>\n",
    "なぜ、テストデータを使ってハイパーパラメータの性能を評価してはいけないので しょうか? それは、テストデータを使ってハイパーパラメータを調整するとすれば、 ハイパーパラメータの値はテストデータに対して過学習を起こすことになるからで す。言い換えると、ハイパーパラメータの値の「良さ」をテストデータを使って確認 することになるので、テストデータだけに適合するようにハイパーパラメータの値が 調整されてしまいます。そうなると、他のデータには適応できない汎化性能の低いモ デルになってしまうかもしれません。\n",
    "そのため、ハイパーパラメータを調整する際には、ハイパーパラメータ専用の確認 データが必要になります。ハイパーパラメータの調整用のデータは、一般に検証デー タ(validation data)と呼びます。この検証データを使って、ハイパーパラメータの 良さを評価します。"
   ]
  },
  {
   "cell_type": "code",
   "execution_count": 5,
   "metadata": {},
   "outputs": [],
   "source": [
    "import sys, os\n",
    "sys.path.append(os.pardir)\n",
    "import numpy as np\n",
    "from dataset.mnist import load_mnist\n",
    "\n",
    "def shuffle_dataset(x, t):\n",
    "    permutation = np.random.permutation(x.shape[0])\n",
    "    x = x[permutation,:] if x.ndim == 2 else x[permutation,:,:,:]\n",
    "    t = t[permutation]\n",
    "\n",
    "    return x, t\n",
    "\n",
    "(x_train, t_train), (x_test, t_test) = load_mnist()\n",
    "\n",
    "x_train, t_train = shuffle_dataset(x_train, t_train)\n",
    "\n",
    "validation_rate = 0.2\n",
    "validation_num = int(x_train.shape[0] * validation_rate)\n",
    "\n",
    "x_val = x_train[:validation_num]\n",
    "t_val = t_train[:validation_num]\n",
    "x_train = x_train[validation_num:]\n",
    "t_train = t_train[validation_num:]"
   ]
  },
  {
   "cell_type": "code",
   "execution_count": null,
   "metadata": {},
   "outputs": [],
   "source": []
  }
 ],
 "metadata": {
  "kernelspec": {
   "display_name": "Python 3.9.13 64-bit",
   "language": "python",
   "name": "python3"
  },
  "language_info": {
   "codemirror_mode": {
    "name": "ipython",
    "version": 3
   },
   "file_extension": ".py",
   "mimetype": "text/x-python",
   "name": "python",
   "nbconvert_exporter": "python",
   "pygments_lexer": "ipython3",
   "version": "3.9.13"
  },
  "orig_nbformat": 4,
  "vscode": {
   "interpreter": {
    "hash": "aee8b7b246df8f9039afb4144a1f6fd8d2ca17a180786b69acc140d282b71a49"
   }
  }
 },
 "nbformat": 4,
 "nbformat_minor": 2
}
