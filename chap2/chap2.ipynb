{
 "cells": [
  {
   "cell_type": "markdown",
   "metadata": {},
   "source": [
    "# 二章　パーセプトロン"
   ]
  },
  {
   "cell_type": "markdown",
   "metadata": {},
   "source": [
    "パーセプトロン†1は、複数の信号を入力として受け取り、ひとつの信号を出力しま\n",
    "す。ここで言う「信号」とは、電流や川のような「流れ」をもつものをイメージする\n",
    "とよいでしょう。電流が導線を流れ、電子を先に送り出すように、パーセプトロンの\n",
    "信号も流れを作り、情報を先へと伝達していきます。ただし、実際の電流とは違い、\n",
    "パーセプトロンの信号は「流す／流さない（1 か 0）」の二値の値です。本書では、0\n",
    "を「信号を流さない」、1 を「信号を流す」に対応させて記述します。<br>\n",
    "y =\n",
    "{\n",
    "0 (w1x1 + w2x2 ≦ θ)\n",
    "1 (w1x1 + w2x2 > θ)<br>\n",
    "パーセプトロンは、複数ある入力信号のそれぞれに固有の重みを持ちます。そし\n",
    "て、その重みは、各信号の重要性をコントロールする要素として働きます。つまり、\n",
    "重みが大きければ大きいほど、その重みに対応する信号の重要性が高くなるのです。<br>\n",
    "重みは、電流で言うところの「抵抗」に相当します。抵抗は電流の流れにくさを\n",
    "決めるパラメータであり、抵抗が低ければ低いほど大きな電流が流れます。一\n",
    "方、パーセプトロンの重みは、その値が大きければ大きいほど、大きな信号が\n",
    "流れることを意味します。抵抗も重みも信号の流れにくさ（流れやすさ）をコ\n",
    "ントロールするという点では同じ働きをします。\n"
   ]
  },
  {
   "cell_type": "markdown",
   "metadata": {},
   "source": [
    "ANDゲートとは、2 入力 1 出力のゲートです。<br>\n",
    "NAND とは、Not AND を意味し、その振る舞いは、AND ゲートの出力を逆にしたものになります。<br>\n",
    "OR ゲートは入力信号の少なくともひとつが 1 であれば、出力が 1 になる論理回路です。<br>"
   ]
  },
  {
   "cell_type": "code",
   "execution_count": 5,
   "metadata": {},
   "outputs": [],
   "source": [
    "import numpy as np"
   ]
  },
  {
   "cell_type": "code",
   "execution_count": 1,
   "metadata": {},
   "outputs": [],
   "source": [
    "# AND　gate implementation\n",
    "def AND(x1, x2):\n",
    "    w1, w2, theta = 0.5, 0.5, 0.7\n",
    "    tmp = x1*w1 + x2*w2\n",
    "    if tmp <= theta:\n",
    "        return 0\n",
    "    elif tmp > theta:\n",
    "        return 1"
   ]
  },
  {
   "cell_type": "code",
   "execution_count": 4,
   "metadata": {},
   "outputs": [
    {
     "name": "stdout",
     "output_type": "stream",
     "text": [
      "0\n",
      "0\n",
      "0\n",
      "1\n"
     ]
    }
   ],
   "source": [
    "print(AND(0,0))\n",
    "print(AND(0,1))\n",
    "print(AND(1,0))\n",
    "print(AND(1,1))"
   ]
  },
  {
   "cell_type": "code",
   "execution_count": 6,
   "metadata": {},
   "outputs": [],
   "source": [
    "# Implementation by weight and bias\n",
    "def AND(x1, x2):\n",
    "    x = np.array([x1, x2]) #入力\n",
    "    w = np.array([0.5, 0.5]) #重み\n",
    "    b = -0.7 #バイアス\n",
    "    tmp = np.sum(w*x) + b\n",
    "    if tmp <= 0:\n",
    "        return 0\n",
    "    else:\n",
    "        return 1"
   ]
  },
  {
   "cell_type": "markdown",
   "metadata": {},
   "source": [
    "ここで −θ をバイアス b と命名しましたが、バイアスは、重みの w1 や w2 とは別\n",
    "の働きをすることに注意しましょう。具体的に言うと、w1 や w2 は入力信号への重\n",
    "要度をコントロールするパラメータとして機能しますが、バイアスは発火のしやすさ\n",
    "――出力信号が 1 を出力する度合い――を調整するパラメータとして機能します。た\n",
    "とえば、b が −0.1 であれば、入力信号の重み付き和が 0.1 を上回るだけでニューロ\n",
    "ンが発火します。しかし、もし b が −20.0 であれば、入力信号の重み付き和が 20.0\n",
    "を上回らなければニューロンは発火しません。このように、バイアスの値によって、\n",
    "ニューロンの発火のしやすさが決まります。なお、w1 や w2 は「重み」と呼び、b は\n",
    "「バイアス」と区別して呼びますが、文脈によっては、b、w1、w2 のすべてのパラメー\n",
    "タを指して「重み」と呼ぶこともあります。<br>\n",
    "-バイアスという用語には、「ゲタはき」という意味があります。これは、入力が\n",
    "何もないときに（入力が 0 のときに）、出力にどれだけゲタをはかせるか（値を\n",
    "上乗せするか）ということを意味します。実際、式 (2.2) の b+w1x1 +w2x2\n",
    "の計算では、入力の x1 と x2 が 0 の場合、バイアスの値だけが出力されます。"
   ]
  },
  {
   "cell_type": "code",
   "execution_count": 7,
   "metadata": {},
   "outputs": [],
   "source": [
    "def NAND(x1, x2):\n",
    "    x = np.array([x1, x2])\n",
    "    w = np.array([-0.5, -0.5])\n",
    "    b = 0.7\n",
    "    tmp = np.sum(w*x) + b\n",
    "    if tmp <= 0:\n",
    "        return 0\n",
    "    else:\n",
    "        return 1"
   ]
  },
  {
   "cell_type": "code",
   "execution_count": 9,
   "metadata": {},
   "outputs": [
    {
     "name": "stdout",
     "output_type": "stream",
     "text": [
      "1\n",
      "1\n",
      "1\n",
      "0\n"
     ]
    }
   ],
   "source": [
    "print(NAND(0,0))\n",
    "print(NAND(1,0))\n",
    "print(NAND(0,1))\n",
    "print(NAND(1,1))"
   ]
  },
  {
   "cell_type": "code",
   "execution_count": 8,
   "metadata": {},
   "outputs": [],
   "source": [
    "def OR(x1, x2):\n",
    "    x = np.array([x1, x2])\n",
    "    w = np.array([0.5, 0.5])\n",
    "    b = -0.2\n",
    "    tmp = np.sum(w*x) + b\n",
    "    if tmp <= 0:\n",
    "        return 0\n",
    "    else:\n",
    "        return 1"
   ]
  },
  {
   "cell_type": "markdown",
   "metadata": {},
   "source": [
    "XOR ゲートは**排他的論理和**とも呼ばれる論理回路です。図2-5 に示すように、x1\n",
    "と x2 のどちらかが 1 のときだけ出力が 1 になります（「排他的」とは自分以外は拒\n",
    "否することを意味します）。さて、この XOR ゲートをパーセプトロンで実装するに\n",
    "は、どのような重みパラメータを設定すればよいでしょうか？<br>\n",
    "実は、これまで見てきたパーセプトロンでは、この XOR ゲートを実現することが\n",
    "できません。なぜ AND や OR は実現できて、XOR は実現できないのでしょうか？"
   ]
  },
  {
   "cell_type": "markdown",
   "metadata": {},
   "source": [
    "パーセプトロンの限界は、このように 1 本の直線で分けた領域だけしか表現できな\n",
    "い点にあります。図2-8 のようなクネッとした曲線をパーセプトロンでは表現できな\n",
    "いのです。ちなみに、図2-8 のような曲線による領域を非線形な領域と言い、直線に\n",
    "よる領域を線形な領域と言います。線形・非線形という言葉は機械学習の分野でよく\n",
    "耳にしますが、イメージとしては図2-6 や図2-8 のようなものを頭に浮かべることが\n",
    "できます。"
   ]
  },
  {
   "cell_type": "code",
   "execution_count": 10,
   "metadata": {},
   "outputs": [],
   "source": [
    "def XOR(x1, x2):\n",
    "    s1 = NAND(x1, x2)\n",
    "    s2 = OR(x1, x2)\n",
    "    y = AND(s1, s2)\n",
    "    return y"
   ]
  },
  {
   "cell_type": "code",
   "execution_count": 12,
   "metadata": {},
   "outputs": [
    {
     "name": "stdout",
     "output_type": "stream",
     "text": [
      "0\n",
      "1\n",
      "1\n",
      "0\n"
     ]
    }
   ],
   "source": [
    "print(XOR(0, 0))\n",
    "print(XOR(1, 0))\n",
    "print(XOR(0, 1))\n",
    "print(XOR(1, 1))"
   ]
  },
  {
   "cell_type": "markdown",
   "metadata": {},
   "source": [
    "「NAND ゲートの組み合わせだけからコンピュータが作れる」と言うと、にわ\n",
    "かに信じられないかもしれません。この点に興味のある方は『コンピュータシ\n",
    "ステムの理論と実装――モダンなコンピュータの作り方』（オライリー・ジャパ\n",
    "ン）という本をおすすめします。この本では、コンピュータを深く理解すること\n",
    "をテーマに掲げ、「NAND からテトリスへ」という標語のもと、実際に NANDからテトリスが動くコンピュータを作ります。この本を読めば、NAND という\n",
    "単純な素子だけから、コンピュータという複雑なシステムが作られることを実\n",
    "感できるでしょう。"
   ]
  },
  {
   "cell_type": "markdown",
   "metadata": {},
   "source": [
    "●パーセプトロンは入出力を備えたアルゴリズムである。ある入力を与えた\n",
    "ら、決まった値が出力される。<br>\n",
    "● パーセプトロンでは、「重み」と「バイアス」をパラメータとして設定する。<br>\n",
    "● パーセプトロンを用いれば、AND や OR ゲートなどの論理回路を表現で\n",
    "きる。<br>\n",
    "● XOR ゲートは単層のパーセプトロンでは表現できない。<br>\n",
    "● 2 層のパーセプトロンを用いれば、XOR ゲートを表現することができる。<br>\n",
    "● 単層のパーセプトロンは線形領域だけしか表現できないのに対して、多層\n",
    "のパーセプトロンは非線形領域を表現することができる。<br>\n",
    "● 多層のパーセプトロンは、（理論上）コンピュータを表現できる。<br>"
   ]
  }
 ],
 "metadata": {
  "kernelspec": {
   "display_name": "Python 3.9.13 64-bit",
   "language": "python",
   "name": "python3"
  },
  "language_info": {
   "codemirror_mode": {
    "name": "ipython",
    "version": 3
   },
   "file_extension": ".py",
   "mimetype": "text/x-python",
   "name": "python",
   "nbconvert_exporter": "python",
   "pygments_lexer": "ipython3",
   "version": "3.9.13"
  },
  "orig_nbformat": 4,
  "vscode": {
   "interpreter": {
    "hash": "aee8b7b246df8f9039afb4144a1f6fd8d2ca17a180786b69acc140d282b71a49"
   }
  }
 },
 "nbformat": 4,
 "nbformat_minor": 2
}
