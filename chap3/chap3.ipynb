{
 "cells": [
  {
   "cell_type": "markdown",
   "metadata": {},
   "source": [
    "# 三章　ニューラルネットワーク"
   ]
  },
  {
   "cell_type": "markdown",
   "metadata": {},
   "source": [
    "前章ではパーセプトロンについて学びましたが、パーセプトロンについては良い\n",
    "ニュースと悪いニュースがありました。良いニュースとは、パーセプトロンは複雑な\n",
    "関数であっても、それを表現できるだけの可能性を秘めているということです。たと\n",
    "えば、コンピュータが行うような複雑そうな処理であっても、パーセプトロンは（理\n",
    "論上）表現できることを前章で説明しました。悪いニュースは、重みを設定する作業\n",
    "――期待する入力と出力を満たすように適切な重みを決める作業――は、今のところ\n",
    "人の手によって行われているということです。<br>\n",
    "ニューラルネットワークは、先の悪いニュースを解決するためにあります。具体的\n",
    "に言うと、適切な重みパラメータをデータから自動で学習できるというのがニューラ\n",
    "ルネットワークの重要な性質のひとつです。本章では、ニューラルネットワークの概\n",
    "要を説明し、ニューラルネットワークが識別を行う際の処理に焦点を当てます。"
   ]
  },
  {
   "cell_type": "code",
   "execution_count": 1,
   "metadata": {},
   "outputs": [],
   "source": [
    "import numpy as np\n",
    "import matplotlib.pylab as plt"
   ]
  },
  {
   "cell_type": "code",
   "execution_count": 2,
   "metadata": {},
   "outputs": [
    {
     "name": "stderr",
     "output_type": "stream",
     "text": [
      "/var/folders/4q/t4qt3lnn6hx6tsgt6yf4j9c80000gp/T/ipykernel_34010/1302578446.py:3: DeprecationWarning: `np.int` is a deprecated alias for the builtin `int`. To silence this warning, use `int` by itself. Doing this will not modify any behavior and is safe. When replacing `np.int`, you may wish to use e.g. `np.int64` or `np.int32` to specify the precision. If you wish to review your current use, check the release note link for additional information.\n",
      "Deprecated in NumPy 1.20; for more details and guidance: https://numpy.org/devdocs/release/1.20.0-notes.html#deprecations\n",
      "  return np.array(x > 0, dtype=np.int)\n"
     ]
    },
    {
     "data": {
      "image/png": "[encoded data removed]",
      "text/plain": [
       "<Figure size 432x288 with 1 Axes>"
      ]
     },
     "metadata": {
      "needs_background": "light"
     },
     "output_type": "display_data"
    }
   ],
   "source": [
    "# ステップ関数の実装\n",
    "def step_function(x):\n",
    "    return np.array(x > 0, dtype=np.int)\n",
    "\n",
    "x = np.arange(-5.0, 5.0, 0.1)\n",
    "y = step_function(x)\n",
    "plt.plot(x, y)\n",
    "plt.ylim(-0.1, 1.1)\n",
    "plt.show()"
   ]
  },
  {
   "cell_type": "markdown",
   "metadata": {},
   "source": [
    "ステップ関数は 0 を境にして、出力が 0 から 1(または 1 から 0)へ切り替わります。なお、図3-6 のように階段状に値が切り替わる形から、 ステップ関数は「階段関数」と呼ばれることもあります。"
   ]
  },
  {
   "cell_type": "code",
   "execution_count": 8,
   "metadata": {},
   "outputs": [
    {
     "data": {
      "image/png": "[encoded data removed]",
      "text/plain": [
       "<Figure size 432x288 with 1 Axes>"
      ]
     },
     "metadata": {
      "needs_background": "light"
     },
     "output_type": "display_data"
    }
   ],
   "source": [
    "# シグモイド関数の実装\n",
    "def sigmoid(x):\n",
    "    return 1 / (1 + np.exp(-x))\n",
    "\n",
    "x = np.arange(-5.0, 5.0 , 0.1)\n",
    "y = sigmoid(x)\n",
    "plt.plot(x, y)\n",
    "plt.ylim(-0.1, 1.1)\n",
    "plt.show()\n"
   ]
  },
  {
   "cell_type": "markdown",
   "metadata": {},
   "source": [
    "```\n",
    "np.exp(x)\n",
    "```\n",
    "x が数のとき、e の x 乗を返す<br>\n",
    "[np.exp()について stackoverflow](https://ja.stackoverflow.com/questions/37006/np-exp%E3%81%AB%E3%81%A4%E3%81%84%E3%81%A6)"
   ]
  },
  {
   "cell_type": "markdown",
   "metadata": {},
   "source": [
    "np.arangeは、連番や等差数列を生成する関数<br>\n",
    "numpy.arange([start, ]stop, [step, ]dtype = None)<br>\n",
    "[連番や等差数列を生成するnumpy.arange関数の使い方](https://deepage.net/features/numpy-arange.html)"
   ]
  },
  {
   "cell_type": "markdown",
   "metadata": {},
   "source": [
    "ステップ関数とシグモイド関数の共通点は他にもあります。重要な共通点は、両者 はともに非線形関数であるということです。シグモイド関数は曲線、ステップ関数は 階段のような折れ曲がった直線で表され、ともに非線形な関数に分類されます。<br>\n",
    "ニューラルネットワークでは、活性化関数に非線形関数を用いる必要があります。 これは言い換えると、活性化関数には線形関数を用いてはならない、ということで す。なぜ線形関数を用いてはならないのでしょうか。それは、線形関数を用いると、 ニューラルネットワークで層を深くすることの意味がなくなってしまうからです。<br>\n",
    "線形関数の問題点は、どんなに層を深くしても、それと同じことを行う「隠れ層の ないネットワーク」が必ず存在する、という事実に起因します。"
   ]
  },
  {
   "cell_type": "code",
   "execution_count": 12,
   "metadata": {},
   "outputs": [
    {
     "data": {
      "image/png": "[encoded data removed]",
      "text/plain": [
       "<Figure size 432x288 with 1 Axes>"
      ]
     },
     "metadata": {
      "needs_background": "light"
     },
     "output_type": "display_data"
    }
   ],
   "source": [
    "# ReLU 関数\n",
    "def relu(x):\n",
    "    return np.maximum(0, x)\n",
    "\n",
    "x = np.arange(-5.0, 5.0, 0.1)\n",
    "y = relu(x)\n",
    "plt.plot(x, y)\n",
    "plt.ylim(-1.1, 5.1)\n",
    "plt.show()"
   ]
  },
  {
   "cell_type": "markdown",
   "metadata": {},
   "source": [
    "ここでは、NumPy の maximum という関数を使っています。この maximum は、入 力された値から大きいほうの値を選んで出力する関数です。"
   ]
  },
  {
   "cell_type": "code",
   "execution_count": 17,
   "metadata": {},
   "outputs": [
    {
     "data": {
      "text/plain": [
       "(3, 2)"
      ]
     },
     "execution_count": 17,
     "metadata": {},
     "output_type": "execute_result"
    }
   ],
   "source": [
    "a = np.array([1,2,3,4])\n",
    "np.ndim(a) #配列の次元数を取得\n",
    "\n",
    "b = np.array([[1,2], [3,4], [5,6]])\n",
    "np.ndim(b)\n",
    "b.shape"
   ]
  },
  {
   "cell_type": "code",
   "execution_count": 19,
   "metadata": {},
   "outputs": [
    {
     "data": {
      "text/plain": [
       "array([[19, 22],\n",
       "       [43, 50]])"
      ]
     },
     "execution_count": 19,
     "metadata": {},
     "output_type": "execute_result"
    }
   ],
   "source": [
    "a = np.array([[1,2], [3,4]])\n",
    "b = np.array([[5,6], [7,8]])\n",
    "np.dot(a,b) # 行列の積"
   ]
  },
  {
   "cell_type": "code",
   "execution_count": 21,
   "metadata": {},
   "outputs": [
    {
     "name": "stdout",
     "output_type": "stream",
     "text": [
      "[ 5 11 17]\n"
     ]
    }
   ],
   "source": [
    "# 対応する次元の要素数を一致させる\n",
    "x = np.array([1,2])\n",
    "w = np.array([[1,3,5], [2,4,6]])\n",
    "y = np.dot(x, w)\n",
    "print(y)"
   ]
  },
  {
   "cell_type": "code",
   "execution_count": 23,
   "metadata": {},
   "outputs": [
    {
     "name": "stdout",
     "output_type": "stream",
     "text": [
      "(2, 3)\n",
      "(2,)\n",
      "(3,)\n"
     ]
    }
   ],
   "source": [
    "X = np.array([1.0, 0.5])\n",
    "W1 = np.array([[0.1, 0.3, 0.5], [0.2, 0.4, 0.6]])\n",
    "B1 = np.array([0.1, 0.2, 0.3])\n",
    "\n",
    "print(W1.shape)\n",
    "print(X.shape)\n",
    "print(B1.shape)\n",
    "\n",
    "A1 = np.dot(X, W1) + B1"
   ]
  },
  {
   "cell_type": "code",
   "execution_count": 24,
   "metadata": {},
   "outputs": [
    {
     "name": "stdout",
     "output_type": "stream",
     "text": [
      "[0.3 0.7 1.1]\n",
      "[0.57444252 0.66818777 0.75026011]\n"
     ]
    }
   ],
   "source": [
    "Z1 = sigmoid(A1)\n",
    "\n",
    "print(A1)\n",
    "print(Z1)"
   ]
  },
  {
   "cell_type": "code",
   "execution_count": 26,
   "metadata": {},
   "outputs": [
    {
     "name": "stdout",
     "output_type": "stream",
     "text": [
      "(3,)\n",
      "(3, 2)\n",
      "(2,)\n"
     ]
    }
   ],
   "source": [
    "W2 = np.array([[0.1, 0.4], [0.2, 0.5], [0.3, 0.6]])\n",
    "B2 = np.array([0.1, 0.2])\n",
    "\n",
    "print(Z1.shape) \n",
    "print(W2.shape) \n",
    "print(B2.shape) \n",
    "\n",
    "A2 = np.dot(Z1, W2) + B2\n",
    "Z2 = sigmoid(A2)"
   ]
  },
  {
   "cell_type": "code",
   "execution_count": 28,
   "metadata": {},
   "outputs": [],
   "source": [
    "def identity_function(x):\n",
    "    return x \n",
    "\n",
    "W3 = np.array([[0.1, 0.3], [0.2, 0.4]])\n",
    "B3 = np.array([0.1, 0.2])\n",
    "\n",
    "A3 = np.dot(Z2, W3) + B3\n",
    "Y = identity_function(A3)"
   ]
  },
  {
   "cell_type": "markdown",
   "metadata": {},
   "source": [
    "ここでは、identity_function() という関数を定義して、この関数――これを**「恒等関数」**と言います――を出力層の活性化関数として利用します。恒等 関数は、入力をそのまま出力する関数です。そのため、この例では、わざわざ identity_function() を定義する必要はないのですが、これまでの流れと統一す るため、このような実装にしています。"
   ]
  },
  {
   "cell_type": "code",
   "execution_count": 29,
   "metadata": {},
   "outputs": [
    {
     "name": "stdout",
     "output_type": "stream",
     "text": [
      "[0.31682708 0.69627909]\n"
     ]
    }
   ],
   "source": [
    "# 実装まとめ\n",
    "def init_network():\n",
    "        network = {}\n",
    "        network['W1'] = np.array([[0.1, 0.3, 0.5], [0.2, 0.4, 0.6]])\n",
    "        network['b1'] = np.array([0.1, 0.2, 0.3])\n",
    "        network['W2'] = np.array([[0.1, 0.4], [0.2, 0.5], [0.3, 0.6]])\n",
    "        network['b2'] = np.array([0.1, 0.2])\n",
    "        network['W3'] = np.array([[0.1, 0.3], [0.2, 0.4]])\n",
    "        network['b3'] = np.array([0.1, 0.2])\n",
    "        return network\n",
    "        \n",
    "def forward(network, x):\n",
    "        W1, W2, W3 = network['W1'], network['W2'], network['W3']\n",
    "        b1, b2, b3 = network['b1'], network['b2'], network['b3']\n",
    "        a1 = np.dot(x, W1) + b1\n",
    "        z1 = sigmoid(a1)\n",
    "        a2 = np.dot(z1, W2) + b2\n",
    "        z2 = sigmoid(a2)\n",
    "        a3 = np.dot(z2, W3) + b3\n",
    "        y = identity_function(a3)\n",
    "        return y\n",
    "\n",
    "network = init_network()\n",
    "x = np.array([1.0, 0.5])\n",
    "y = forward(network, x)\n",
    "print(y) # [ 0.31682708  0.69627909]"
   ]
  },
  {
   "cell_type": "markdown",
   "metadata": {},
   "source": [
    "## 3.5出力層の設計\n",
    "恒等関数→入力をそのまま出力する　入ってきたものに対して何も手を加えずに出力する<br>\n",
    "ソフトマックス関数→複数の出力値の合計が1.0になるように変換して出力する関数　主に分類問題における出力層の活性化関数として用いられる"
   ]
  },
  {
   "cell_type": "code",
   "execution_count": 2,
   "metadata": {},
   "outputs": [],
   "source": [
    "# ソフトマックス関数\n",
    "def softmax(a):\n",
    "    exp_a = np.exp(a)\n",
    "    sum_exp_a = np.sum(exp_a)\n",
    "    y = exp_a / sum_exp_a\n",
    "\n",
    "    return y"
   ]
  },
  {
   "cell_type": "markdown",
   "metadata": {},
   "source": [
    "上の softmax 関数の実装は、式 (3.10) を正しく表現できていますが、コンピュー タで計算を行う上では欠陥があります。その欠陥とは、オーバーフローに関する問題 です。ソフトマックス関数の実装では、指数関数の計算を行うことになりますが、そ の際、指数関数の値が容易に大きな値になりえます。たとえば、e10 は 20,000 を超 え、e100 は 0 が 40 個以上も並ぶ大きな値になり、e1000 の結果は無限大を表す inf が返ってきます。そして、このような大きな値どうしで割り算を行うと、数値が“不 安定”な結果になってしまうのです。<br>\n",
    "コンピュータで「数」を扱う場合、その数値は 4 バイトや 8 バイトといった有 限のデータ幅に収められることになります。これが意味することは、数には有 効桁数があるということ、つまり、表現できる数値の範囲に制限があるという ことです。そのため、とても大きな値は表現できないという問題が発生します。 これをオーバーフローと言い、コンピュータで計算を行う際には(時々)注意 しなければなりません。"
   ]
  },
  {
   "cell_type": "code",
   "execution_count": 3,
   "metadata": {},
   "outputs": [],
   "source": [
    "# ソフトマックス関数の実装の改善案\n",
    "def softmax(a):\n",
    "    c = np.max(a)\n",
    "    exp_a = np.exp(a - c) # オーバーフロー対策\n",
    "    sum_exp_a = np.sum(exp_a)\n",
    "    y = exp_a / sum_exp_a\n",
    "\n",
    "    return y"
   ]
  },
  {
   "cell_type": "code",
   "execution_count": 4,
   "metadata": {},
   "outputs": [
    {
     "name": "stdout",
     "output_type": "stream",
     "text": [
      "[0.01821127 0.24519181 0.73659691]\n"
     ]
    },
    {
     "data": {
      "text/plain": [
       "1.0"
      ]
     },
     "execution_count": 4,
     "metadata": {},
     "output_type": "execute_result"
    }
   ],
   "source": [
    "a = np.array([0.3, 2.9, 4.0])\n",
    "y = softmax(a)\n",
    "print(y)\n",
    "np.sum(y)"
   ]
  },
  {
   "cell_type": "markdown",
   "metadata": {},
   "source": [
    "ここで示したように、ソフトマックス関数の出力は、0 から 1.0 の間の実数になり ます。また、ソフトマックス関数の出力の総和は 1 になります。さて、この総和が 1 になるという性質ですが、これはソフトマックス関数の重要な性質です。この性質の おかげでソフトマックス関数の出力を「確率」として解釈することができます。"
   ]
  },
  {
   "cell_type": "markdown",
   "metadata": {},
   "source": [
    "● ニューラルネットワークでは、活性化関数としてシグモイド関数や ReLU 関数のような滑らかに変化する関数を利用する。<br>\n",
    "● NumPy の多次元配列をうまく使うことで、ニューラルネットワークを効 率良く実装することができる。<br>\n",
    "● 機械学習の問題は、回帰問題と分類問題に大別できる。<br>\n",
    "● 出力層で使用する活性化関数は、回帰問題では恒等関数、分類問題ではソフトマックス関数を一般的に利用する。<br>\n",
    "● 分類問題では、出力層のニューロンの数を分類するクラス数に設定する。<br>\n",
    "● 入力データのまとまりをバッチと言い、バッチ単位で推論処理を行うことで、計算を高速に行うことができる。<br>"
   ]
  },
  {
   "cell_type": "code",
   "execution_count": null,
   "metadata": {},
   "outputs": [],
   "source": []
  }
 ],
 "metadata": {
  "kernelspec": {
   "display_name": "Python 3.9.13 64-bit",
   "language": "python",
   "name": "python3"
  },
  "language_info": {
   "codemirror_mode": {
    "name": "ipython",
    "version": 3
   },
   "file_extension": ".py",
   "mimetype": "text/x-python",
   "name": "python",
   "nbconvert_exporter": "python",
   "pygments_lexer": "ipython3",
   "version": "3.9.13"
  },
  "orig_nbformat": 4,
  "vscode": {
   "interpreter": {
    "hash": "aee8b7b246df8f9039afb4144a1f6fd8d2ca17a180786b69acc140d282b71a49"
   }
  }
 },
 "nbformat": 4,
 "nbformat_minor": 2
}
