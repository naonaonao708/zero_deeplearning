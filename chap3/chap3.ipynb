{
 "cells": [
  {
   "cell_type": "markdown",
   "metadata": {},
   "source": [
    "# 三章　ニューラルネットワーク"
   ]
  },
  {
   "cell_type": "markdown",
   "metadata": {},
   "source": [
    "前章ではパーセプトロンについて学びましたが、パーセプトロンについては良い\n",
    "ニュースと悪いニュースがありました。良いニュースとは、パーセプトロンは複雑な\n",
    "関数であっても、それを表現できるだけの可能性を秘めているということです。たと\n",
    "えば、コンピュータが行うような複雑そうな処理であっても、パーセプトロンは（理\n",
    "論上）表現できることを前章で説明しました。悪いニュースは、重みを設定する作業\n",
    "――期待する入力と出力を満たすように適切な重みを決める作業――は、今のところ\n",
    "人の手によって行われているということです。<br>\n",
    "ニューラルネットワークは、先の悪いニュースを解決するためにあります。具体的\n",
    "に言うと、適切な重みパラメータをデータから自動で学習できるというのがニューラ\n",
    "ルネットワークの重要な性質のひとつです。本章では、ニューラルネットワークの概\n",
    "要を説明し、ニューラルネットワークが識別を行う際の処理に焦点を当てます。"
   ]
  },
  {
   "cell_type": "code",
   "execution_count": 3,
   "metadata": {},
   "outputs": [],
   "source": [
    "import numpy as np\n",
    "import matplotlib.pylab as plt"
   ]
  },
  {
   "cell_type": "code",
   "execution_count": 4,
   "metadata": {},
   "outputs": [],
   "source": [
    "# ステップ関数の実装\n",
    "def step_function(x):\n",
    "    return np.array(x > 0, dtype=np.int)\n",
    "\n",
    "x = np.arange(-5.0, 5.0, 0.1)\n",
    "y = step_function(x)\n"
   ]
  },
  {
   "cell_type": "code",
   "execution_count": null,
   "metadata": {},
   "outputs": [],
   "source": []
  }
 ],
 "metadata": {
  "kernelspec": {
   "display_name": "Python 3.9.13 64-bit",
   "language": "python",
   "name": "python3"
  },
  "language_info": {
   "codemirror_mode": {
    "name": "ipython",
    "version": 3
   },
   "file_extension": ".py",
   "mimetype": "text/x-python",
   "name": "python",
   "nbconvert_exporter": "python",
   "pygments_lexer": "ipython3",
   "version": "3.9.13"
  },
  "orig_nbformat": 4,
  "vscode": {
   "interpreter": {
    "hash": "aee8b7b246df8f9039afb4144a1f6fd8d2ca17a180786b69acc140d282b71a49"
   }
  }
 },
 "nbformat": 4,
 "nbformat_minor": 2
}
